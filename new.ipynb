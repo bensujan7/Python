{
 "cells": [
  {
   "cell_type": "markdown",
   "id": "89c524af",
   "metadata": {},
   "source": [
    "#### Boolean and lists\n"
   ]
  },
  {
   "cell_type": "markdown",
   "id": "4281c003",
   "metadata": {},
   "source": [
    "#### list"
   ]
  },
  {
   "cell_type": "code",
   "execution_count": null,
   "id": "3672971b",
   "metadata": {},
   "outputs": [],
   "source": [
    "subject = [\"math\", \"science\", \"english\"]"
   ]
  },
  {
   "cell_type": "code",
   "execution_count": null,
   "id": "e4f8f97b",
   "metadata": {},
   "outputs": [],
   "source": [
    "type(subject);"
   ]
  },
  {
   "cell_type": "code",
   "execution_count": null,
   "id": "3d125a41",
   "metadata": {},
   "outputs": [],
   "source": []
  }
 ],
 "metadata": {
  "kernelspec": {
   "display_name": "Python 3",
   "language": "python",
   "name": "python3"
  },
  "language_info": {
   "name": "python",
   "version": "3.11.9"
  }
 },
 "nbformat": 4,
 "nbformat_minor": 5
}
