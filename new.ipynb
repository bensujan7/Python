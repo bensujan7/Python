{
 "cells": [
  {
   "cell_type": "markdown",
   "id": "89c524af",
   "metadata": {},
   "source": [
    "#### Boolean and lists\n"
   ]
  },
  {
   "cell_type": "code",
   "execution_count": null,
   "id": "3672971b",
   "metadata": {
    "vscode": {
     "languageId": "plaintext"
    }
   },
   "outputs": [],
   "source": []
  }
 ],
 "metadata": {
  "language_info": {
   "name": "python"
  }
 },
 "nbformat": 4,
 "nbformat_minor": 5
}
